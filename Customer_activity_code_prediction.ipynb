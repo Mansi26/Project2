{
 "cells": [
  {
   "cell_type": "markdown",
   "metadata": {},
   "source": [
    "# Import Libraries"
   ]
  },
  {
   "cell_type": "code",
   "execution_count": 1,
   "metadata": {},
   "outputs": [],
   "source": [
    "import re\n",
    "import string\n",
    "from nltk.corpus import stopwords\n",
    "from nltk.tokenize import word_tokenize\n",
    "import os\n",
    "import json\n",
    "from wordcloud import WordCloud, STOPWORDS, ImageColorGenerator\n",
    "import matplotlib.pyplot as plt\n",
    "import pandas as pd\n",
    "\n",
    "stops = set(stopwords.words(\"english\"))"
   ]
  },
  {
   "cell_type": "markdown",
   "metadata": {},
   "source": [
    "# Creating SR dataframe\n",
    "Now we create dataframe for all the SRs by reading the data from the file, cleaning it, and then adding it into a pandas dataframe indexed by SR."
   ]
  },
  {
   "cell_type": "code",
   "execution_count": 2,
   "metadata": {},
   "outputs": [
    {
     "data": {
      "text/html": [
       "<div>\n",
       "<style scoped>\n",
       "    .dataframe tbody tr th:only-of-type {\n",
       "        vertical-align: middle;\n",
       "    }\n",
       "\n",
       "    .dataframe tbody tr th {\n",
       "        vertical-align: top;\n",
       "    }\n",
       "\n",
       "    .dataframe thead th {\n",
       "        text-align: right;\n",
       "    }\n",
       "</style>\n",
       "<table border=\"1\" class=\"dataframe\">\n",
       "  <thead>\n",
       "    <tr style=\"text-align: right;\">\n",
       "      <th></th>\n",
       "      <th>incident_number</th>\n",
       "      <th>casenumber</th>\n",
       "      <th>incident_type</th>\n",
       "      <th>incident_status</th>\n",
       "      <th>comm_pref_code</th>\n",
       "      <th>complexity</th>\n",
       "      <th>current_severity</th>\n",
       "      <th>initial_severity</th>\n",
       "      <th>max_severity</th>\n",
       "      <th>bug_cnt</th>\n",
       "      <th>...</th>\n",
       "      <th>tss.incident_number</th>\n",
       "      <th>tss.problem_code</th>\n",
       "      <th>tss.resolution_code</th>\n",
       "      <th>tss.customer_activity_code</th>\n",
       "      <th>tss.case_impact_catg_code</th>\n",
       "      <th>tss.case_impact_status_code</th>\n",
       "      <th>tss.case_impact_user_cnt_code</th>\n",
       "      <th>tss.initial_problem_code</th>\n",
       "      <th>tss.underlying_cause_code</th>\n",
       "      <th>tss.underlying_cause</th>\n",
       "    </tr>\n",
       "  </thead>\n",
       "  <tbody>\n",
       "    <tr>\n",
       "      <th>0</th>\n",
       "      <td>685375405</td>\n",
       "      <td>1121441655</td>\n",
       "      <td>TAC</td>\n",
       "      <td>Customer Updated</td>\n",
       "      <td>EMAIL</td>\n",
       "      <td>NaN</td>\n",
       "      <td>3</td>\n",
       "      <td>3</td>\n",
       "      <td>3</td>\n",
       "      <td>NaN</td>\n",
       "      <td>...</td>\n",
       "      <td>685375405</td>\n",
       "      <td>INSTLL_UNSTLL_UPGRD</td>\n",
       "      <td>SW_CONFIG</td>\n",
       "      <td>UPGRADE</td>\n",
       "      <td>NOT AVAILABLE</td>\n",
       "      <td>NOT AVAILABLE</td>\n",
       "      <td>NOT AVAILABLE</td>\n",
       "      <td>INSTLL_UNSTLL_UPGRD</td>\n",
       "      <td>COMM003</td>\n",
       "      <td>Software Bug</td>\n",
       "    </tr>\n",
       "    <tr>\n",
       "      <th>1</th>\n",
       "      <td>685375255</td>\n",
       "      <td>1121441441</td>\n",
       "      <td>TAC</td>\n",
       "      <td>Customer Pending</td>\n",
       "      <td>EMAIL</td>\n",
       "      <td>NaN</td>\n",
       "      <td>3</td>\n",
       "      <td>3</td>\n",
       "      <td>3</td>\n",
       "      <td>NaN</td>\n",
       "      <td>...</td>\n",
       "      <td>685375255</td>\n",
       "      <td>INSTLL_UNSTLL_UPGRD</td>\n",
       "      <td>RESOLV_BY_CUST</td>\n",
       "      <td>UPGRADE</td>\n",
       "      <td>NOT AVAILABLE</td>\n",
       "      <td>NOT AVAILABLE</td>\n",
       "      <td>NOT AVAILABLE</td>\n",
       "      <td>INSTLL_UNSTLL_UPGRD</td>\n",
       "      <td>COMM004</td>\n",
       "      <td>Software -not a bug (scalability, version sele...</td>\n",
       "    </tr>\n",
       "    <tr>\n",
       "      <th>2</th>\n",
       "      <td>685375176</td>\n",
       "      <td>1121441341</td>\n",
       "      <td>TAC</td>\n",
       "      <td>Customer Updated</td>\n",
       "      <td>EMAIL</td>\n",
       "      <td>NaN</td>\n",
       "      <td>3</td>\n",
       "      <td>3</td>\n",
       "      <td>3</td>\n",
       "      <td>NaN</td>\n",
       "      <td>...</td>\n",
       "      <td>685375176</td>\n",
       "      <td>CONFIG_ASSISTANCE</td>\n",
       "      <td>CUSTOMER_EDUCATION</td>\n",
       "      <td>CONFIG</td>\n",
       "      <td>NOT AVAILABLE</td>\n",
       "      <td>NOT AVAILABLE</td>\n",
       "      <td>NOT AVAILABLE</td>\n",
       "      <td>CONFIG_ASSISTANCE</td>\n",
       "      <td>COMM007</td>\n",
       "      <td>Configuration Assistance (process not intuitiv...</td>\n",
       "    </tr>\n",
       "    <tr>\n",
       "      <th>3</th>\n",
       "      <td>685375012</td>\n",
       "      <td>1121441096</td>\n",
       "      <td>TAC</td>\n",
       "      <td>DE Pending Workaround</td>\n",
       "      <td>EMAIL</td>\n",
       "      <td>NaN</td>\n",
       "      <td>3</td>\n",
       "      <td>3</td>\n",
       "      <td>3</td>\n",
       "      <td>NaN</td>\n",
       "      <td>...</td>\n",
       "      <td>685375012</td>\n",
       "      <td>SOFTWARE_FAILURE</td>\n",
       "      <td>NOT AVAILABLE</td>\n",
       "      <td>OPERATE</td>\n",
       "      <td>NOT AVAILABLE</td>\n",
       "      <td>NOT AVAILABLE</td>\n",
       "      <td>NOT AVAILABLE</td>\n",
       "      <td>SOFTWARE_FAILURE</td>\n",
       "      <td>NaN</td>\n",
       "      <td>NaN</td>\n",
       "    </tr>\n",
       "    <tr>\n",
       "      <th>4</th>\n",
       "      <td>685374397</td>\n",
       "      <td>1121440168</td>\n",
       "      <td>TAC</td>\n",
       "      <td>Customer Updated</td>\n",
       "      <td>EMAIL</td>\n",
       "      <td>NaN</td>\n",
       "      <td>3</td>\n",
       "      <td>3</td>\n",
       "      <td>3</td>\n",
       "      <td>NaN</td>\n",
       "      <td>...</td>\n",
       "      <td>685374397</td>\n",
       "      <td>INSTLL_UNSTLL_UPGRD</td>\n",
       "      <td>NOT AVAILABLE</td>\n",
       "      <td>INSTALL</td>\n",
       "      <td>NOT AVAILABLE</td>\n",
       "      <td>NOT AVAILABLE</td>\n",
       "      <td>NOT AVAILABLE</td>\n",
       "      <td>INSTLL_UNSTLL_UPGRD</td>\n",
       "      <td>NaN</td>\n",
       "      <td>NaN</td>\n",
       "    </tr>\n",
       "  </tbody>\n",
       "</table>\n",
       "<p>5 rows × 89 columns</p>\n",
       "</div>"
      ],
      "text/plain": [
       "   incident_number  casenumber incident_type        incident_status  \\\n",
       "0        685375405  1121441655           TAC       Customer Updated   \n",
       "1        685375255  1121441441           TAC       Customer Pending   \n",
       "2        685375176  1121441341           TAC       Customer Updated   \n",
       "3        685375012  1121441096           TAC  DE Pending Workaround   \n",
       "4        685374397  1121440168           TAC       Customer Updated   \n",
       "\n",
       "  comm_pref_code complexity  current_severity  initial_severity  max_severity  \\\n",
       "0          EMAIL        NaN                 3                 3             3   \n",
       "1          EMAIL        NaN                 3                 3             3   \n",
       "2          EMAIL        NaN                 3                 3             3   \n",
       "3          EMAIL        NaN                 3                 3             3   \n",
       "4          EMAIL        NaN                 3                 3             3   \n",
       "\n",
       "   bug_cnt                        ...                          \\\n",
       "0      NaN                        ...                           \n",
       "1      NaN                        ...                           \n",
       "2      NaN                        ...                           \n",
       "3      NaN                        ...                           \n",
       "4      NaN                        ...                           \n",
       "\n",
       "  tss.incident_number     tss.problem_code tss.resolution_code  \\\n",
       "0           685375405  INSTLL_UNSTLL_UPGRD           SW_CONFIG   \n",
       "1           685375255  INSTLL_UNSTLL_UPGRD      RESOLV_BY_CUST   \n",
       "2           685375176    CONFIG_ASSISTANCE  CUSTOMER_EDUCATION   \n",
       "3           685375012     SOFTWARE_FAILURE       NOT AVAILABLE   \n",
       "4           685374397  INSTLL_UNSTLL_UPGRD       NOT AVAILABLE   \n",
       "\n",
       "  tss.customer_activity_code tss.case_impact_catg_code  \\\n",
       "0                    UPGRADE             NOT AVAILABLE   \n",
       "1                    UPGRADE             NOT AVAILABLE   \n",
       "2                     CONFIG             NOT AVAILABLE   \n",
       "3                    OPERATE             NOT AVAILABLE   \n",
       "4                    INSTALL             NOT AVAILABLE   \n",
       "\n",
       "  tss.case_impact_status_code tss.case_impact_user_cnt_code  \\\n",
       "0               NOT AVAILABLE                 NOT AVAILABLE   \n",
       "1               NOT AVAILABLE                 NOT AVAILABLE   \n",
       "2               NOT AVAILABLE                 NOT AVAILABLE   \n",
       "3               NOT AVAILABLE                 NOT AVAILABLE   \n",
       "4               NOT AVAILABLE                 NOT AVAILABLE   \n",
       "\n",
       "  tss.initial_problem_code tss.underlying_cause_code  \\\n",
       "0      INSTLL_UNSTLL_UPGRD                   COMM003   \n",
       "1      INSTLL_UNSTLL_UPGRD                   COMM004   \n",
       "2        CONFIG_ASSISTANCE                   COMM007   \n",
       "3         SOFTWARE_FAILURE                       NaN   \n",
       "4      INSTLL_UNSTLL_UPGRD                       NaN   \n",
       "\n",
       "                                tss.underlying_cause  \n",
       "0                                       Software Bug  \n",
       "1  Software -not a bug (scalability, version sele...  \n",
       "2  Configuration Assistance (process not intuitiv...  \n",
       "3                                                NaN  \n",
       "4                                                NaN  \n",
       "\n",
       "[5 rows x 89 columns]"
      ]
     },
     "execution_count": 2,
     "metadata": {},
     "output_type": "execute_result"
    }
   ],
   "source": [
    "sr_df = pd.read_excel('SR_DNAC_Oct25_FieldList.xlsx', sheet_name = 'SR_DNAC_Oct25')\n",
    "sr_df.head()\n",
    "\n",
    "\n"
   ]
  },
  {
   "cell_type": "code",
   "execution_count": 3,
   "metadata": {},
   "outputs": [],
   "source": [
    "sr_df = sr_df.fillna(value=\"NULL\")"
   ]
  },
  {
   "cell_type": "markdown",
   "metadata": {},
   "source": [
    "# Encoding data as one hot labels"
   ]
  },
  {
   "cell_type": "code",
   "execution_count": 4,
   "metadata": {},
   "outputs": [
    {
     "name": "stderr",
     "output_type": "stream",
     "text": [
      "/apps/dslab/anaconda/python3/lib/python3.6/site-packages/h5py/__init__.py:36: FutureWarning: Conversion of the second argument of issubdtype from `float` to `np.floating` is deprecated. In future, it will be treated as `np.float64 == np.dtype(float).type`.\n",
      "  from ._conv import register_converters as _register_converters\n",
      "Using TensorFlow backend.\n"
     ]
    },
    {
     "name": "stdout",
     "output_type": "stream",
     "text": [
      "[[0. 0. 0. 0. 0. 1.]\n",
      " [0. 0. 0. 0. 0. 1.]\n",
      " [1. 0. 0. 0. 0. 0.]\n",
      " ...\n",
      " [1. 0. 0. 0. 0. 0.]\n",
      " [1. 0. 0. 0. 0. 0.]\n",
      " [0. 0. 0. 1. 0. 0.]]\n"
     ]
    }
   ],
   "source": [
    "from sklearn.preprocessing import LabelEncoder\n",
    "from keras.utils import np_utils\n",
    "\n",
    "Y = sr_df['tss.customer_activity_code']\n",
    "encoder = LabelEncoder()\n",
    "encoder.fit(Y)\n",
    "encoded_Y = encoder.transform(Y)\n",
    "dummy_y = np_utils.to_categorical(encoded_Y)\n",
    "print(dummy_y)\n",
    "sr_df = sr_df.drop(columns=['tss.customer_activity_code'])"
   ]
  },
  {
   "cell_type": "code",
   "execution_count": 5,
   "metadata": {},
   "outputs": [
    {
     "name": "stdout",
     "output_type": "stream",
     "text": [
      "CONFIG      1262\n",
      "OPERATE      774\n",
      "INSTALL      531\n",
      "UPGRADE      283\n",
      "NULL          39\n",
      "PLANNING       2\n",
      "Name: tss.customer_activity_code, dtype: int64\n"
     ]
    },
    {
     "data": {
      "text/plain": [
       "Text(0,0.5,'Number of SRs')"
      ]
     },
     "execution_count": 5,
     "metadata": {},
     "output_type": "execute_result"
    },
    {
     "data": {
      "image/png": "[encoded data removed]",
      "text/plain": [
       "<matplotlib.figure.Figure at 0x7f03ca580550>"
      ]
     },
     "metadata": {},
     "output_type": "display_data"
    }
   ],
   "source": [
    "frequency_count = Y.value_counts()\n",
    "print(frequency_count)\n",
    "ax_1 = frequency_count.plot(kind='bar', title='Customer Activity Code Distribution')\n",
    "ax_1.set_ylabel('Number of SRs')"
   ]
  },
  {
   "cell_type": "markdown",
   "metadata": {},
   "source": [
    "# Train Test Split"
   ]
  },
  {
   "cell_type": "code",
   "execution_count": 6,
   "metadata": {},
   "outputs": [
    {
     "name": "stderr",
     "output_type": "stream",
     "text": [
      "/apps/dslab/anaconda/python3/lib/python3.6/site-packages/sklearn/cross_validation.py:41: DeprecationWarning: This module was deprecated in version 0.18 in favor of the model_selection module into which all the refactored classes and functions are moved. Also note that the interface of the new CV iterators are different from that of this module. This module will be removed in 0.20.\n",
      "  \"This module will be removed in 0.20.\", DeprecationWarning)\n"
     ]
    }
   ],
   "source": [
    "from sklearn.cross_validation import train_test_split\n",
    "seed=20\n",
    "sr_df = sr_df[['tss.problem_code', 'tss.resolution_code', 'tss.underlying_cause_code', 'summary']]\n",
    "X_train, X_test, Y_train, Y_test = train_test_split(sr_df, dummy_y, test_size=0.15, random_state=seed, stratify=Y) \n"
   ]
  },
  {
   "cell_type": "markdown",
   "metadata": {},
   "source": [
    "# Embedding categorical variables"
   ]
  },
  {
   "cell_type": "code",
   "execution_count": 7,
   "metadata": {},
   "outputs": [],
   "source": [
    "from sklearn.preprocessing import LabelEncoder\n",
    "\n",
    "X_train_categorical = X_train[['tss.problem_code', 'tss.resolution_code', 'tss.underlying_cause_code']].apply(LabelEncoder().fit_transform)\n",
    "X_test_categorical = X_test[['tss.problem_code', 'tss.resolution_code', 'tss.underlying_cause_code']].apply(LabelEncoder().fit_transform)\n",
    "X_train_text = X_train['summary']\n",
    "X_test_text = X_test['summary']"
   ]
  },
  {
   "cell_type": "markdown",
   "metadata": {},
   "source": [
    "# More import libraries"
   ]
  },
  {
   "cell_type": "code",
   "execution_count": 8,
   "metadata": {},
   "outputs": [],
   "source": [
    "from keras.layers import Input, Embedding, Dense, Flatten, Dropout, concatenate\n",
    "from keras.layers import BatchNormalization, SpatialDropout1D\n",
    "from keras.callbacks import Callback\n",
    "from keras.models import Model\n",
    "from keras.optimizers import Adam"
   ]
  },
  {
   "cell_type": "markdown",
   "metadata": {},
   "source": [
    "# Embedding categorical values"
   ]
  },
  {
   "cell_type": "code",
   "execution_count": 9,
   "metadata": {},
   "outputs": [],
   "source": [
    "import numpy as np\n",
    "max_prob_code = np.max([X_train_categorical['tss.problem_code'].max(), X_test_categorical['tss.problem_code'].max()])+1\n",
    "max_res_code = np.max([X_train_categorical['tss.resolution_code'].max(), X_test_categorical['tss.resolution_code'].max()])+1\n",
    "max_cause_code = np.max([X_train_categorical['tss.underlying_cause_code'].max(), X_test_categorical['tss.underlying_cause_code'].max()])+1"
   ]
  },
  {
   "cell_type": "markdown",
   "metadata": {},
   "source": [
    "## Creating embeddings using keras"
   ]
  },
  {
   "cell_type": "code",
   "execution_count": 10,
   "metadata": {},
   "outputs": [],
   "source": [
    "import tensorflow as tf\n",
    "from tensorflow.keras.layers import Reshape\n",
    "\n",
    "emb_n = 10\n",
    "dense_n = 500\n",
    "in_pc = Input(shape=[1], name = 'prob_code')\n",
    "emb_pc = Embedding(max_prob_code, emb_n)(in_pc)\n",
    "# reshaped_pc = tf.reshape(emb_pc, shape=[tf.shape(emb_pc)[0], 10], name='reshaped_emb_pc')\n",
    "in_rc = Input(shape=[1], name = 'res_code')\n",
    "emb_rc = Embedding(max_res_code, emb_n)(in_rc)\n",
    "# reshaped_rc = tf.reshape(emb_rc, shape=[tf.shape(emb_rc)[0], 10], name='reshaped_emb_rc')\n",
    "in_cc = Input(shape=[1], name = 'cause_code')\n",
    "emb_cc = Embedding(max_cause_code, emb_n)(in_cc)\n",
    "# reshaped_cc = tf.reshape(emb_cc, shape=[tf.shape(emb_cc)[0], 10], name='reshaped_emb_cc')"
   ]
  },
  {
   "cell_type": "markdown",
   "metadata": {},
   "source": [
    "# Embedding text values using BERT"
   ]
  },
  {
   "cell_type": "code",
   "execution_count": 11,
   "metadata": {},
   "outputs": [],
   "source": [
    "from bert_serving.client import BertClient\n",
    "bc = BertClient()\n",
    "X_train_bert = bc.encode(list(X_train_text))\n",
    "X_test_bert = bc.encode(list(X_test_text))\n"
   ]
  },
  {
   "cell_type": "markdown",
   "metadata": {},
   "source": [
    "# Perform PCA on the embedding to reduce dimension"
   ]
  },
  {
   "cell_type": "code",
   "execution_count": 12,
   "metadata": {},
   "outputs": [],
   "source": [
    "from sklearn.decomposition import PCA\n",
    "from matplotlib import pyplot\n",
    "pca = PCA(n_components=10)\n",
    "X_train_bert = pca.fit_transform(X_train_bert)\n",
    "X_test_bert = pca.fit_transform(X_test_bert)"
   ]
  },
  {
   "cell_type": "code",
   "execution_count": 13,
   "metadata": {},
   "outputs": [],
   "source": [
    "from tensorflow.keras.layers import Reshape\n",
    "in_bert = Input(shape=[10], name = 'bert_summary')\n",
    "bert = Dense(10, activation=\"relu\")(in_bert)"
   ]
  },
  {
   "cell_type": "markdown",
   "metadata": {},
   "source": [
    "# Concatenate to form single network"
   ]
  },
  {
   "cell_type": "code",
   "execution_count": 25,
   "metadata": {},
   "outputs": [
    {
     "name": "stdout",
     "output_type": "stream",
     "text": [
      "__________________________________________________________________________________________________\n",
      "Layer (type)                    Output Shape         Param #     Connected to                     \n",
      "==================================================================================================\n",
      "prob_code (InputLayer)          (None, 1)            0                                            \n",
      "__________________________________________________________________________________________________\n",
      "res_code (InputLayer)           (None, 1)            0                                            \n",
      "__________________________________________________________________________________________________\n",
      "cause_code (InputLayer)         (None, 1)            0                                            \n",
      "__________________________________________________________________________________________________\n",
      "embedding_1 (Embedding)         (None, 1, 10)        120         prob_code[0][0]                  \n",
      "__________________________________________________________________________________________________\n",
      "embedding_2 (Embedding)         (None, 1, 10)        300         res_code[0][0]                   \n",
      "__________________________________________________________________________________________________\n",
      "embedding_3 (Embedding)         (None, 1, 10)        150         cause_code[0][0]                 \n",
      "__________________________________________________________________________________________________\n",
      "concatenate_3 (Concatenate)     (None, 1, 30)        0           embedding_1[0][0]                \n",
      "                                                                 embedding_2[0][0]                \n",
      "                                                                 embedding_3[0][0]                \n",
      "__________________________________________________________________________________________________\n",
      "dense_5 (Dense)                 (None, 1, 500)       15500       concatenate_3[0][0]              \n",
      "__________________________________________________________________________________________________\n",
      "dropout_3 (Dropout)             (None, 1, 500)       0           dense_5[0][0]                    \n",
      "__________________________________________________________________________________________________\n",
      "dense_6 (Dense)                 (None, 1, 500)       250500      dropout_3[0][0]                  \n",
      "__________________________________________________________________________________________________\n",
      "dropout_4 (Dropout)             (None, 1, 500)       0           dense_6[0][0]                    \n",
      "__________________________________________________________________________________________________\n",
      "dense_7 (Dense)                 (None, 1, 6)         3006        dropout_4[0][0]                  \n",
      "__________________________________________________________________________________________________\n",
      "flatten_4 (Flatten)             (None, 6)            0           dense_7[0][0]                    \n",
      "==================================================================================================\n",
      "Total params: 269,576\n",
      "Trainable params: 269,576\n",
      "Non-trainable params: 0\n",
      "__________________________________________________________________________________________________\n"
     ]
    }
   ],
   "source": [
    "\n",
    "fe = concatenate([(emb_pc), (emb_rc), (emb_cc)])\n",
    "s_dout = SpatialDropout1D(0.2)(fe)\n",
    "x = Flatten()(s_dout)\n",
    "x = concatenate([(x), (bert)])\n",
    "x = Dropout(0.2)(Dense(dense_n,activation='relu')(fe))\n",
    "x = Dropout(0.2)(Dense(dense_n,activation='relu')(x))\n",
    "outp = Dense(6,activation='softmax')(x)\n",
    "outp_flattened = Flatten()(outp)\n",
    "\n",
    "model = Model(inputs=[in_pc, in_rc, in_cc, in_bert], outputs=outp_flattened)\n",
    "model.summary()"
   ]
  },
  {
   "cell_type": "code",
   "execution_count": 15,
   "metadata": {},
   "outputs": [],
   "source": [
    "import numpy as np\n",
    "def get_keras_data(dataset_categorical, dataset_bert):\n",
    "    X = {\n",
    "        'prob_code': np.array(dataset_categorical['tss.problem_code']),\n",
    "        'res_code': np.array(dataset_categorical['tss.resolution_code']),\n",
    "        'cause_code': np.array(dataset_categorical['tss.underlying_cause_code']),\n",
    "        'bert_summary': np.array(dataset_bert)\n",
    "    }\n",
    "    return X\n",
    "X_train = get_keras_data(X_train_categorical, X_train_bert)\n",
    "X_test = get_keras_data(X_test_categorical, X_test_bert)"
   ]
  },
  {
   "cell_type": "code",
   "execution_count": 16,
   "metadata": {},
   "outputs": [],
   "source": [
    "import tensorflow as tf\n",
    "import keras.backend as K\n",
    "\n",
    "def f1(y_true, y_pred):\n",
    "    y_pred = K.round(y_pred)\n",
    "    tp = K.sum(K.cast(y_true*y_pred, 'float'), axis=0)\n",
    "    # tn = K.sum(K.cast((1-y_true)*(1-y_pred), 'float'), axis=0)\n",
    "    fp = K.sum(K.cast((1-y_true)*y_pred, 'float'), axis=0)\n",
    "    fn = K.sum(K.cast(y_true*(1-y_pred), 'float'), axis=0)\n",
    "\n",
    "    p = tp / (tp + fp + K.epsilon())\n",
    "    r = tp / (tp + fn + K.epsilon())\n",
    "\n",
    "    f1 = 2*p*r / (p+r+K.epsilon())\n",
    "    f1 = tf.where(tf.is_nan(f1), tf.zeros_like(f1), f1)\n",
    "    return K.mean(f1)"
   ]
  },
  {
   "cell_type": "markdown",
   "metadata": {},
   "source": [
    "# Train the model"
   ]
  },
  {
   "cell_type": "code",
   "execution_count": 26,
   "metadata": {},
   "outputs": [
    {
     "name": "stdout",
     "output_type": "stream",
     "text": [
      "Train on 2088 samples, validate on 369 samples\n",
      "Epoch 1/100\n",
      "2088/2088 [==============================] - 1s 253us/step - loss: 1.4701 - f1: 0.0275 - val_loss: 1.1280 - val_f1: 0.1079\n",
      "\n",
      "Epoch 00001: val_f1 improved from -inf to 0.10792, saving model to weights-improvement-01-0.11.hdf5\n",
      "Epoch 2/100\n",
      "2088/2088 [==============================] - 0s 46us/step - loss: 1.0885 - f1: 0.1733 - val_loss: 1.0069 - val_f1: 0.1980\n",
      "\n",
      "Epoch 00002: val_f1 improved from 0.10792 to 0.19802, saving model to weights-improvement-02-0.20.hdf5\n",
      "Epoch 3/100\n",
      "2088/2088 [==============================] - 0s 45us/step - loss: 1.0127 - f1: 0.2251 - val_loss: 0.9885 - val_f1: 0.2392\n",
      "\n",
      "Epoch 00003: val_f1 improved from 0.19802 to 0.23915, saving model to weights-improvement-03-0.24.hdf5\n",
      "Epoch 4/100\n",
      "2088/2088 [==============================] - 0s 45us/step - loss: 0.9800 - f1: 0.2844 - val_loss: 0.9889 - val_f1: 0.2722\n",
      "\n",
      "Epoch 00004: val_f1 improved from 0.23915 to 0.27221, saving model to weights-improvement-04-0.27.hdf5\n",
      "Epoch 5/100\n",
      "2088/2088 [==============================] - 0s 45us/step - loss: 0.9696 - f1: 0.2919 - val_loss: 0.9907 - val_f1: 0.2678\n",
      "\n",
      "Epoch 00005: val_f1 did not improve from 0.27221\n",
      "Epoch 6/100\n",
      "2088/2088 [==============================] - 0s 44us/step - loss: 0.9640 - f1: 0.2930 - val_loss: 0.9977 - val_f1: 0.2758\n",
      "\n",
      "Epoch 00006: val_f1 improved from 0.27221 to 0.27582, saving model to weights-improvement-06-0.28.hdf5\n",
      "Epoch 7/100\n",
      "2088/2088 [==============================] - 0s 44us/step - loss: 0.9526 - f1: 0.3039 - val_loss: 0.9979 - val_f1: 0.2655\n",
      "\n",
      "Epoch 00007: val_f1 did not improve from 0.27582\n",
      "Epoch 8/100\n",
      "2088/2088 [==============================] - 0s 45us/step - loss: 0.9446 - f1: 0.3130 - val_loss: 1.0068 - val_f1: 0.2764\n",
      "\n",
      "Epoch 00008: val_f1 improved from 0.27582 to 0.27640, saving model to weights-improvement-08-0.28.hdf5\n",
      "Epoch 9/100\n",
      "2088/2088 [==============================] - 0s 44us/step - loss: 0.9310 - f1: 0.3102 - val_loss: 1.0122 - val_f1: 0.2708\n",
      "\n",
      "Epoch 00009: val_f1 did not improve from 0.27640\n",
      "Epoch 10/100\n",
      "2088/2088 [==============================] - 0s 44us/step - loss: 0.9375 - f1: 0.3298 - val_loss: 1.0187 - val_f1: 0.2741\n",
      "\n",
      "Epoch 00010: val_f1 did not improve from 0.27640\n",
      "Epoch 11/100\n",
      "2088/2088 [==============================] - 0s 44us/step - loss: 0.9277 - f1: 0.3547 - val_loss: 1.0137 - val_f1: 0.2661\n",
      "\n",
      "Epoch 00011: val_f1 did not improve from 0.27640\n",
      "Epoch 12/100\n",
      "2088/2088 [==============================] - 0s 46us/step - loss: 0.9208 - f1: 0.3701 - val_loss: 1.0022 - val_f1: 0.2802\n",
      "\n",
      "Epoch 00012: val_f1 improved from 0.27640 to 0.28016, saving model to weights-improvement-12-0.28.hdf5\n",
      "Epoch 13/100\n",
      "2088/2088 [==============================] - 0s 45us/step - loss: 0.9152 - f1: 0.3850 - val_loss: 0.9944 - val_f1: 0.3461\n",
      "\n",
      "Epoch 00013: val_f1 improved from 0.28016 to 0.34615, saving model to weights-improvement-13-0.35.hdf5\n",
      "Epoch 14/100\n",
      "2088/2088 [==============================] - 0s 44us/step - loss: 0.9099 - f1: 0.3975 - val_loss: 1.0047 - val_f1: 0.3369\n",
      "\n",
      "Epoch 00014: val_f1 did not improve from 0.34615\n",
      "Epoch 15/100\n",
      "2088/2088 [==============================] - 0s 45us/step - loss: 0.9047 - f1: 0.4193 - val_loss: 1.0087 - val_f1: 0.3770\n",
      "\n",
      "Epoch 00015: val_f1 improved from 0.34615 to 0.37705, saving model to weights-improvement-15-0.38.hdf5\n",
      "Epoch 16/100\n",
      "2088/2088 [==============================] - 0s 44us/step - loss: 0.9043 - f1: 0.4094 - val_loss: 1.0103 - val_f1: 0.3746\n",
      "\n",
      "Epoch 00016: val_f1 did not improve from 0.37705\n",
      "Epoch 17/100\n",
      "2088/2088 [==============================] - 0s 44us/step - loss: 0.9006 - f1: 0.4040 - val_loss: 0.9966 - val_f1: 0.3765\n",
      "\n",
      "Epoch 00017: val_f1 did not improve from 0.37705\n",
      "Epoch 18/100\n",
      "2088/2088 [==============================] - 0s 45us/step - loss: 0.8894 - f1: 0.4311 - val_loss: 1.0114 - val_f1: 0.3841\n",
      "\n",
      "Epoch 00018: val_f1 improved from 0.37705 to 0.38413, saving model to weights-improvement-18-0.38.hdf5\n",
      "Epoch 19/100\n",
      "2088/2088 [==============================] - 0s 44us/step - loss: 0.8906 - f1: 0.4235 - val_loss: 1.0112 - val_f1: 0.3749\n",
      "\n",
      "Epoch 00019: val_f1 did not improve from 0.38413\n",
      "Epoch 20/100\n",
      "2088/2088 [==============================] - 0s 44us/step - loss: 0.8906 - f1: 0.4268 - val_loss: 1.0195 - val_f1: 0.3673\n",
      "\n",
      "Epoch 00020: val_f1 did not improve from 0.38413\n",
      "Epoch 21/100\n",
      "2088/2088 [==============================] - 0s 44us/step - loss: 0.8877 - f1: 0.4123 - val_loss: 1.0337 - val_f1: 0.3721\n",
      "\n",
      "Epoch 00021: val_f1 did not improve from 0.38413\n",
      "Epoch 22/100\n",
      "2088/2088 [==============================] - 0s 43us/step - loss: 0.8826 - f1: 0.4221 - val_loss: 1.0282 - val_f1: 0.3633\n",
      "\n",
      "Epoch 00022: val_f1 did not improve from 0.38413\n",
      "Epoch 23/100\n",
      "2088/2088 [==============================] - 0s 44us/step - loss: 0.8767 - f1: 0.4466 - val_loss: 1.0325 - val_f1: 0.3748\n",
      "\n",
      "Epoch 00023: val_f1 did not improve from 0.38413\n",
      "Epoch 24/100\n",
      "2088/2088 [==============================] - 0s 43us/step - loss: 0.8733 - f1: 0.4356 - val_loss: 1.0427 - val_f1: 0.3851\n",
      "\n",
      "Epoch 00024: val_f1 improved from 0.38413 to 0.38508, saving model to weights-improvement-24-0.39.hdf5\n",
      "Epoch 25/100\n",
      "2088/2088 [==============================] - 0s 53us/step - loss: 0.8793 - f1: 0.4100 - val_loss: 1.0279 - val_f1: 0.3897\n",
      "\n",
      "Epoch 00025: val_f1 improved from 0.38508 to 0.38974, saving model to weights-improvement-25-0.39.hdf5\n",
      "Epoch 26/100\n",
      "2088/2088 [==============================] - 0s 50us/step - loss: 0.8811 - f1: 0.4018 - val_loss: 1.0232 - val_f1: 0.3962\n",
      "\n",
      "Epoch 00026: val_f1 improved from 0.38974 to 0.39624, saving model to weights-improvement-26-0.40.hdf5\n",
      "Epoch 27/100\n",
      "2088/2088 [==============================] - 0s 46us/step - loss: 0.8688 - f1: 0.4297 - val_loss: 1.0367 - val_f1: 0.3804\n",
      "\n",
      "Epoch 00027: val_f1 did not improve from 0.39624\n",
      "Epoch 28/100\n",
      "2088/2088 [==============================] - 0s 45us/step - loss: 0.8761 - f1: 0.4376 - val_loss: 1.0372 - val_f1: 0.3970\n",
      "\n",
      "Epoch 00028: val_f1 improved from 0.39624 to 0.39698, saving model to weights-improvement-28-0.40.hdf5\n",
      "Epoch 29/100\n",
      "2088/2088 [==============================] - 0s 45us/step - loss: 0.8614 - f1: 0.4505 - val_loss: 1.0437 - val_f1: 0.3723\n",
      "\n",
      "Epoch 00029: val_f1 did not improve from 0.39698\n",
      "Epoch 30/100\n",
      "2088/2088 [==============================] - 0s 45us/step - loss: 0.8562 - f1: 0.4384 - val_loss: 1.0558 - val_f1: 0.3688\n",
      "\n",
      "Epoch 00030: val_f1 did not improve from 0.39698\n",
      "Epoch 31/100\n",
      "2088/2088 [==============================] - 0s 44us/step - loss: 0.8621 - f1: 0.4168 - val_loss: 1.0511 - val_f1: 0.3777\n",
      "\n",
      "Epoch 00031: val_f1 did not improve from 0.39698\n",
      "Epoch 32/100\n",
      "2088/2088 [==============================] - 0s 46us/step - loss: 0.8557 - f1: 0.4311 - val_loss: 1.0608 - val_f1: 0.3666\n",
      "\n",
      "Epoch 00032: val_f1 did not improve from 0.39698\n",
      "Epoch 33/100\n",
      "2088/2088 [==============================] - 0s 43us/step - loss: 0.8558 - f1: 0.4377 - val_loss: 1.0583 - val_f1: 0.3653\n",
      "\n",
      "Epoch 00033: val_f1 did not improve from 0.39698\n",
      "Epoch 34/100\n",
      "2088/2088 [==============================] - 0s 43us/step - loss: 0.8492 - f1: 0.4379 - val_loss: 1.0542 - val_f1: 0.4073\n",
      "\n",
      "Epoch 00034: val_f1 improved from 0.39698 to 0.40729, saving model to weights-improvement-34-0.41.hdf5\n",
      "Epoch 35/100\n",
      "2088/2088 [==============================] - 0s 46us/step - loss: 0.8535 - f1: 0.4342 - val_loss: 1.0485 - val_f1: 0.3816\n",
      "\n",
      "Epoch 00035: val_f1 did not improve from 0.40729\n",
      "Epoch 36/100\n",
      "2088/2088 [==============================] - 0s 44us/step - loss: 0.8427 - f1: 0.4575 - val_loss: 1.0583 - val_f1: 0.3815\n",
      "\n",
      "Epoch 00036: val_f1 did not improve from 0.40729\n",
      "Epoch 37/100\n",
      "2088/2088 [==============================] - 0s 44us/step - loss: 0.8523 - f1: 0.4068 - val_loss: 1.0626 - val_f1: 0.3827\n",
      "\n",
      "Epoch 00037: val_f1 did not improve from 0.40729\n",
      "Epoch 38/100\n",
      "2088/2088 [==============================] - 0s 45us/step - loss: 0.8478 - f1: 0.4328 - val_loss: 1.0608 - val_f1: 0.3877\n",
      "\n",
      "Epoch 00038: val_f1 did not improve from 0.40729\n",
      "Epoch 39/100\n",
      "2088/2088 [==============================] - 0s 46us/step - loss: 0.8439 - f1: 0.4073 - val_loss: 1.0724 - val_f1: 0.3654\n",
      "\n",
      "Epoch 00039: val_f1 did not improve from 0.40729\n",
      "Epoch 40/100\n",
      "2088/2088 [==============================] - 0s 44us/step - loss: 0.8459 - f1: 0.4605 - val_loss: 1.0797 - val_f1: 0.3864\n"
     ]
    },
    {
     "name": "stdout",
     "output_type": "stream",
     "text": [
      "\n",
      "Epoch 00040: val_f1 did not improve from 0.40729\n",
      "Epoch 41/100\n",
      "2088/2088 [==============================] - 0s 44us/step - loss: 0.8434 - f1: 0.4542 - val_loss: 1.0722 - val_f1: 0.3760\n",
      "\n",
      "Epoch 00041: val_f1 did not improve from 0.40729\n",
      "Epoch 42/100\n",
      "2088/2088 [==============================] - 0s 44us/step - loss: 0.8324 - f1: 0.4516 - val_loss: 1.0780 - val_f1: 0.3830\n",
      "\n",
      "Epoch 00042: val_f1 did not improve from 0.40729\n",
      "Epoch 43/100\n",
      "2088/2088 [==============================] - 0s 43us/step - loss: 0.8414 - f1: 0.4426 - val_loss: 1.0594 - val_f1: 0.3812\n",
      "\n",
      "Epoch 00043: val_f1 did not improve from 0.40729\n",
      "Epoch 44/100\n",
      "2088/2088 [==============================] - 0s 44us/step - loss: 0.8343 - f1: 0.4266 - val_loss: 1.0763 - val_f1: 0.3863\n",
      "\n",
      "Epoch 00044: val_f1 did not improve from 0.40729\n",
      "Epoch 45/100\n",
      "2088/2088 [==============================] - 0s 44us/step - loss: 0.8326 - f1: 0.4634 - val_loss: 1.1027 - val_f1: 0.3554\n",
      "\n",
      "Epoch 00045: val_f1 did not improve from 0.40729\n",
      "Epoch 46/100\n",
      "2088/2088 [==============================] - 0s 44us/step - loss: 0.8323 - f1: 0.4419 - val_loss: 1.0781 - val_f1: 0.4226\n",
      "\n",
      "Epoch 00046: val_f1 improved from 0.40729 to 0.42256, saving model to weights-improvement-46-0.42.hdf5\n",
      "Epoch 47/100\n",
      "2088/2088 [==============================] - 0s 45us/step - loss: 0.8347 - f1: 0.4539 - val_loss: 1.0786 - val_f1: 0.3830\n",
      "\n",
      "Epoch 00047: val_f1 did not improve from 0.42256\n",
      "Epoch 48/100\n",
      "2088/2088 [==============================] - 0s 44us/step - loss: 0.8339 - f1: 0.4606 - val_loss: 1.0819 - val_f1: 0.3763\n",
      "\n",
      "Epoch 00048: val_f1 did not improve from 0.42256\n",
      "Epoch 49/100\n",
      "2088/2088 [==============================] - 0s 44us/step - loss: 0.8233 - f1: 0.4519 - val_loss: 1.0760 - val_f1: 0.3981\n",
      "\n",
      "Epoch 00049: val_f1 did not improve from 0.42256\n",
      "Epoch 50/100\n",
      "2088/2088 [==============================] - 0s 44us/step - loss: 0.8208 - f1: 0.4620 - val_loss: 1.0940 - val_f1: 0.3730\n",
      "\n",
      "Epoch 00050: val_f1 did not improve from 0.42256\n",
      "Epoch 51/100\n",
      "2088/2088 [==============================] - 0s 45us/step - loss: 0.8251 - f1: 0.4571 - val_loss: 1.0799 - val_f1: 0.3743\n",
      "\n",
      "Epoch 00051: val_f1 did not improve from 0.42256\n",
      "Epoch 52/100\n",
      "2088/2088 [==============================] - 0s 45us/step - loss: 0.8220 - f1: 0.4422 - val_loss: 1.0958 - val_f1: 0.3673\n",
      "\n",
      "Epoch 00052: val_f1 did not improve from 0.42256\n",
      "Epoch 53/100\n",
      "2088/2088 [==============================] - 0s 44us/step - loss: 0.8228 - f1: 0.4551 - val_loss: 1.1036 - val_f1: 0.3848\n",
      "\n",
      "Epoch 00053: val_f1 did not improve from 0.42256\n",
      "Epoch 54/100\n",
      "2088/2088 [==============================] - 0s 44us/step - loss: 0.8226 - f1: 0.4683 - val_loss: 1.1086 - val_f1: 0.3690\n",
      "\n",
      "Epoch 00054: val_f1 did not improve from 0.42256\n",
      "Epoch 55/100\n",
      "2088/2088 [==============================] - 0s 44us/step - loss: 0.8147 - f1: 0.4501 - val_loss: 1.0988 - val_f1: 0.3668\n",
      "\n",
      "Epoch 00055: val_f1 did not improve from 0.42256\n",
      "Epoch 56/100\n",
      "2088/2088 [==============================] - 0s 45us/step - loss: 0.8211 - f1: 0.4545 - val_loss: 1.0998 - val_f1: 0.3983\n",
      "\n",
      "Epoch 00056: val_f1 did not improve from 0.42256\n",
      "Epoch 57/100\n",
      "2088/2088 [==============================] - 0s 49us/step - loss: 0.8135 - f1: 0.4830 - val_loss: 1.1123 - val_f1: 0.3815\n",
      "\n",
      "Epoch 00057: val_f1 did not improve from 0.42256\n",
      "Epoch 58/100\n",
      "2088/2088 [==============================] - 0s 45us/step - loss: 0.8118 - f1: 0.4463 - val_loss: 1.1051 - val_f1: 0.3814\n",
      "\n",
      "Epoch 00058: val_f1 did not improve from 0.42256\n",
      "Epoch 59/100\n",
      "2088/2088 [==============================] - 0s 45us/step - loss: 0.8133 - f1: 0.4777 - val_loss: 1.1172 - val_f1: 0.3983\n",
      "\n",
      "Epoch 00059: val_f1 did not improve from 0.42256\n",
      "Epoch 60/100\n",
      "2088/2088 [==============================] - 0s 45us/step - loss: 0.8116 - f1: 0.4630 - val_loss: 1.1392 - val_f1: 0.3639\n",
      "\n",
      "Epoch 00060: val_f1 did not improve from 0.42256\n",
      "Epoch 61/100\n",
      "2088/2088 [==============================] - 0s 44us/step - loss: 0.8159 - f1: 0.4799 - val_loss: 1.1104 - val_f1: 0.4042\n",
      "\n",
      "Epoch 00061: val_f1 did not improve from 0.42256\n",
      "Epoch 62/100\n",
      "2088/2088 [==============================] - 0s 47us/step - loss: 0.8183 - f1: 0.4578 - val_loss: 1.1164 - val_f1: 0.3849\n",
      "\n",
      "Epoch 00062: val_f1 did not improve from 0.42256\n",
      "Epoch 63/100\n",
      "2088/2088 [==============================] - 0s 46us/step - loss: 0.8061 - f1: 0.4698 - val_loss: 1.1188 - val_f1: 0.4077\n",
      "\n",
      "Epoch 00063: val_f1 did not improve from 0.42256\n",
      "Epoch 64/100\n",
      "2088/2088 [==============================] - 0s 45us/step - loss: 0.8098 - f1: 0.4715 - val_loss: 1.1250 - val_f1: 0.3929\n",
      "\n",
      "Epoch 00064: val_f1 did not improve from 0.42256\n",
      "Epoch 65/100\n",
      "2088/2088 [==============================] - 0s 44us/step - loss: 0.8003 - f1: 0.4615 - val_loss: 1.1274 - val_f1: 0.3825\n",
      "\n",
      "Epoch 00065: val_f1 did not improve from 0.42256\n",
      "Epoch 66/100\n",
      "2088/2088 [==============================] - 0s 45us/step - loss: 0.8057 - f1: 0.4691 - val_loss: 1.1403 - val_f1: 0.3927\n",
      "\n",
      "Epoch 00066: val_f1 did not improve from 0.42256\n",
      "Epoch 67/100\n",
      "2088/2088 [==============================] - 0s 45us/step - loss: 0.8060 - f1: 0.4600 - val_loss: 1.1270 - val_f1: 0.4077\n",
      "\n",
      "Epoch 00067: val_f1 did not improve from 0.42256\n",
      "Epoch 68/100\n",
      "2088/2088 [==============================] - 0s 44us/step - loss: 0.8013 - f1: 0.4620 - val_loss: 1.1203 - val_f1: 0.3993\n",
      "\n",
      "Epoch 00068: val_f1 did not improve from 0.42256\n",
      "Epoch 69/100\n",
      "2088/2088 [==============================] - 0s 45us/step - loss: 0.8078 - f1: 0.4698 - val_loss: 1.1195 - val_f1: 0.3920\n",
      "\n",
      "Epoch 00069: val_f1 did not improve from 0.42256\n",
      "Epoch 70/100\n",
      "2088/2088 [==============================] - 0s 46us/step - loss: 0.7957 - f1: 0.4669 - val_loss: 1.1295 - val_f1: 0.4036\n",
      "\n",
      "Epoch 00070: val_f1 did not improve from 0.42256\n",
      "Epoch 71/100\n",
      "2088/2088 [==============================] - 0s 46us/step - loss: 0.7985 - f1: 0.4604 - val_loss: 1.1201 - val_f1: 0.3875\n",
      "\n",
      "Epoch 00071: val_f1 did not improve from 0.42256\n",
      "Epoch 72/100\n",
      "2088/2088 [==============================] - 0s 44us/step - loss: 0.7983 - f1: 0.4830 - val_loss: 1.1300 - val_f1: 0.4035\n",
      "\n",
      "Epoch 00072: val_f1 did not improve from 0.42256\n",
      "Epoch 73/100\n",
      "2088/2088 [==============================] - 0s 44us/step - loss: 0.8045 - f1: 0.4462 - val_loss: 1.1479 - val_f1: 0.3565\n",
      "\n",
      "Epoch 00073: val_f1 did not improve from 0.42256\n",
      "Epoch 74/100\n",
      "2088/2088 [==============================] - 0s 45us/step - loss: 0.8028 - f1: 0.4664 - val_loss: 1.1647 - val_f1: 0.3864\n",
      "\n",
      "Epoch 00074: val_f1 did not improve from 0.42256\n",
      "Epoch 75/100\n",
      "2088/2088 [==============================] - 0s 45us/step - loss: 0.8026 - f1: 0.4713 - val_loss: 1.1373 - val_f1: 0.3827\n",
      "\n",
      "Epoch 00075: val_f1 did not improve from 0.42256\n",
      "Epoch 76/100\n",
      "2088/2088 [==============================] - 0s 45us/step - loss: 0.7964 - f1: 0.4611 - val_loss: 1.1391 - val_f1: 0.3987\n",
      "\n",
      "Epoch 00076: val_f1 did not improve from 0.42256\n",
      "Epoch 77/100\n",
      "2088/2088 [==============================] - 0s 46us/step - loss: 0.7911 - f1: 0.4534 - val_loss: 1.1510 - val_f1: 0.3810\n",
      "\n",
      "Epoch 00077: val_f1 did not improve from 0.42256\n",
      "Epoch 78/100\n",
      "2088/2088 [==============================] - 0s 45us/step - loss: 0.7977 - f1: 0.4720 - val_loss: 1.1470 - val_f1: 0.4132\n",
      "\n",
      "Epoch 00078: val_f1 did not improve from 0.42256\n",
      "Epoch 79/100\n",
      "2088/2088 [==============================] - 0s 44us/step - loss: 0.7941 - f1: 0.4558 - val_loss: 1.1430 - val_f1: 0.3894\n",
      "\n",
      "Epoch 00079: val_f1 did not improve from 0.42256\n",
      "Epoch 80/100\n",
      "2088/2088 [==============================] - 0s 45us/step - loss: 0.7951 - f1: 0.4816 - val_loss: 1.1768 - val_f1: 0.3672\n",
      "\n",
      "Epoch 00080: val_f1 did not improve from 0.42256\n",
      "Epoch 81/100\n",
      "2088/2088 [==============================] - 0s 46us/step - loss: 0.7921 - f1: 0.4715 - val_loss: 1.1696 - val_f1: 0.3792\n",
      "\n",
      "Epoch 00081: val_f1 did not improve from 0.42256\n",
      "Epoch 82/100\n",
      "2088/2088 [==============================] - 0s 45us/step - loss: 0.7865 - f1: 0.4788 - val_loss: 1.1556 - val_f1: 0.3984\n",
      "\n",
      "Epoch 00082: val_f1 did not improve from 0.42256\n",
      "Epoch 83/100\n",
      "2088/2088 [==============================] - 0s 43us/step - loss: 0.7917 - f1: 0.4751 - val_loss: 1.1538 - val_f1: 0.4057\n",
      "\n",
      "Epoch 00083: val_f1 did not improve from 0.42256\n",
      "Epoch 84/100\n",
      "2088/2088 [==============================] - 0s 43us/step - loss: 0.7951 - f1: 0.4651 - val_loss: 1.1679 - val_f1: 0.3842\n"
     ]
    },
    {
     "name": "stdout",
     "output_type": "stream",
     "text": [
      "\n",
      "Epoch 00084: val_f1 did not improve from 0.42256\n",
      "Epoch 85/100\n",
      "2088/2088 [==============================] - 0s 44us/step - loss: 0.7948 - f1: 0.4637 - val_loss: 1.1562 - val_f1: 0.3977\n",
      "\n",
      "Epoch 00085: val_f1 did not improve from 0.42256\n",
      "Epoch 86/100\n",
      "2088/2088 [==============================] - 0s 43us/step - loss: 0.7904 - f1: 0.4948 - val_loss: 1.1473 - val_f1: 0.3793\n",
      "\n",
      "Epoch 00086: val_f1 did not improve from 0.42256\n",
      "Epoch 87/100\n",
      "2088/2088 [==============================] - 0s 44us/step - loss: 0.7897 - f1: 0.4627 - val_loss: 1.1648 - val_f1: 0.3979\n",
      "\n",
      "Epoch 00087: val_f1 did not improve from 0.42256\n",
      "Epoch 88/100\n",
      "2088/2088 [==============================] - 0s 46us/step - loss: 0.7876 - f1: 0.4721 - val_loss: 1.1839 - val_f1: 0.3909\n",
      "\n",
      "Epoch 00088: val_f1 did not improve from 0.42256\n",
      "Epoch 89/100\n",
      "2088/2088 [==============================] - 0s 45us/step - loss: 0.7851 - f1: 0.4924 - val_loss: 1.1672 - val_f1: 0.3619\n",
      "\n",
      "Epoch 00089: val_f1 did not improve from 0.42256\n",
      "Epoch 90/100\n",
      "2088/2088 [==============================] - 0s 45us/step - loss: 0.8006 - f1: 0.4716 - val_loss: 1.1734 - val_f1: 0.3534\n",
      "\n",
      "Epoch 00090: val_f1 did not improve from 0.42256\n",
      "Epoch 91/100\n",
      "2088/2088 [==============================] - 0s 44us/step - loss: 0.7868 - f1: 0.4683 - val_loss: 1.1665 - val_f1: 0.3807\n",
      "\n",
      "Epoch 00091: val_f1 did not improve from 0.42256\n",
      "Epoch 92/100\n",
      "2088/2088 [==============================] - 0s 44us/step - loss: 0.7875 - f1: 0.4707 - val_loss: 1.1564 - val_f1: 0.3356\n",
      "\n",
      "Epoch 00092: val_f1 did not improve from 0.42256\n",
      "Epoch 93/100\n",
      "2088/2088 [==============================] - 0s 45us/step - loss: 0.7900 - f1: 0.4514 - val_loss: 1.1726 - val_f1: 0.3481\n",
      "\n",
      "Epoch 00093: val_f1 did not improve from 0.42256\n",
      "Epoch 94/100\n",
      "2088/2088 [==============================] - 0s 45us/step - loss: 0.7815 - f1: 0.4707 - val_loss: 1.1729 - val_f1: 0.3427\n",
      "\n",
      "Epoch 00094: val_f1 did not improve from 0.42256\n",
      "Epoch 95/100\n",
      "2088/2088 [==============================] - 0s 45us/step - loss: 0.7843 - f1: 0.4724 - val_loss: 1.1725 - val_f1: 0.3843\n",
      "\n",
      "Epoch 00095: val_f1 did not improve from 0.42256\n",
      "Epoch 96/100\n",
      "2088/2088 [==============================] - 0s 44us/step - loss: 0.7788 - f1: 0.4506 - val_loss: 1.1843 - val_f1: 0.3353\n",
      "\n",
      "Epoch 00096: val_f1 did not improve from 0.42256\n",
      "Epoch 97/100\n",
      "2088/2088 [==============================] - 0s 44us/step - loss: 0.7898 - f1: 0.4520 - val_loss: 1.2008 - val_f1: 0.3858\n",
      "\n",
      "Epoch 00097: val_f1 did not improve from 0.42256\n",
      "Epoch 98/100\n",
      "2088/2088 [==============================] - 0s 45us/step - loss: 0.7876 - f1: 0.4687 - val_loss: 1.1781 - val_f1: 0.4045\n",
      "\n",
      "Epoch 00098: val_f1 did not improve from 0.42256\n",
      "Epoch 99/100\n",
      "2088/2088 [==============================] - 0s 44us/step - loss: 0.7919 - f1: 0.4981 - val_loss: 1.1842 - val_f1: 0.3949\n",
      "\n",
      "Epoch 00099: val_f1 did not improve from 0.42256\n",
      "Epoch 100/100\n",
      "2088/2088 [==============================] - 0s 45us/step - loss: 0.7896 - f1: 0.4758 - val_loss: 1.1943 - val_f1: 0.3678\n",
      "\n",
      "Epoch 00100: val_f1 did not improve from 0.42256\n"
     ]
    },
    {
     "data": {
      "text/plain": [
       "<keras.callbacks.History at 0x7f02f83492b0>"
      ]
     },
     "execution_count": 26,
     "metadata": {},
     "output_type": "execute_result"
    }
   ],
   "source": [
    "from keras.callbacks import ModelCheckpoint\n",
    "\n",
    "batch_size = 128\n",
    "epochs = 100\n",
    "exp_decay = lambda init, fin, steps: (init/fin)**(1/(steps-1)) - 1\n",
    "steps = int(len(X_train) / batch_size) * epochs\n",
    "lr_init, lr_fin = 0.001, 0.0001\n",
    "lr_decay = exp_decay(lr_init, lr_fin, steps)\n",
    "optimizer_adam = Adam(lr=0.001, decay=lr_decay)\n",
    "model.compile(loss='categorical_crossentropy',optimizer=optimizer_adam,metrics=[f1])\n",
    "filepath=\"weights-improvement-{epoch:02d}-{val_f1:.2f}.hdf5\"\n",
    "checkpoint = ModelCheckpoint(filepath, monitor='val_f1', verbose=1, save_best_only=True, mode='max')\n",
    "callbacks_list = [checkpoint]\n",
    "\n",
    "\n",
    "model.fit(X_train, Y_train, validation_split=0.15, epochs = epochs, shuffle=True, batch_size=batch_size, callbacks=callbacks_list)"
   ]
  },
  {
   "cell_type": "markdown",
   "metadata": {},
   "source": [
    "# Test the model"
   ]
  },
  {
   "cell_type": "code",
   "execution_count": 27,
   "metadata": {},
   "outputs": [
    {
     "name": "stdout",
     "output_type": "stream",
     "text": [
      "434/434 [==============================] - 0s 33us/step\n"
     ]
    }
   ],
   "source": [
    "results = model.evaluate(x=X_test, y=Y_test)"
   ]
  },
  {
   "cell_type": "code",
   "execution_count": 28,
   "metadata": {},
   "outputs": [
    {
     "name": "stdout",
     "output_type": "stream",
     "text": [
      "Results: {'loss': 2.1057283823391257, 'f1': 0.2509911620671848}\n"
     ]
    }
   ],
   "source": [
    "metrics = model.metrics_names\n",
    "results_dict = dict(zip(metrics, results))\n",
    "print(\"Results:\", results_dict)"
   ]
  },
  {
   "cell_type": "markdown",
   "metadata": {},
   "source": [
    "# Perform prediction"
   ]
  },
  {
   "cell_type": "code",
   "execution_count": 29,
   "metadata": {},
   "outputs": [],
   "source": [
    "def test_predict(model, x):\n",
    "    yhat_prob = model.predict(x)\n",
    "    yhat=[]\n",
    "    for i in range(yhat_prob.shape[0]):\n",
    "        datum = yhat_prob[i]\n",
    "        decoded_datum = np.argmax(yhat_prob[i])\n",
    "        yhat.append(decoded_datum)\n",
    "    return yhat"
   ]
  },
  {
   "cell_type": "code",
   "execution_count": 30,
   "metadata": {},
   "outputs": [],
   "source": [
    "yhat = model.predict(X_test)\n"
   ]
  },
  {
   "cell_type": "markdown",
   "metadata": {},
   "source": [
    "# Test model accuracy"
   ]
  },
  {
   "cell_type": "code",
   "execution_count": 31,
   "metadata": {},
   "outputs": [
    {
     "name": "stdout",
     "output_type": "stream",
     "text": [
      "Predicted Output: [0 0 0 0 0 0 0 3 0 0 0 0 0 5 0 0 1 0 1 0 3 0 0 1 0 0 0 1 0 0 0 3 0 0 0 3 0\n",
      " 0 0 0 1 3 0 0 3 0 3 0 0 1 0 3 0 1 0 0 0 0 0 0 0 0 0 0 1 3 1 1 0 0 0 0 0 3\n",
      " 1 1 1 0 0 0 1 3 0 0 0 0 0 3 0 0 0 0 0 0 1 3 0 0 0 0 0 0 3 1 3 0 3 1 0 0 0\n",
      " 5 3 0 1 3 0 3 5 0 3 3 0 5 0 1 3 5 0 3 1 0 0 0 0 3 1 0 0 0 3 0 1 0 1 0 0 3\n",
      " 0 0 1 1 1 3 0 0 1 3 0 0 0 0 0 5 0 0 1 5 0 3 3 0 1 0 3 3 1 0 0 0 0 0 0 1 0\n",
      " 5 0 0 0 0 0 0 0 0 0 0 3 0 0 0 3 1 0 0 3 0 3 0 0 0 0 0 0 1 0 0 0 0 0 1 3 0\n",
      " 1 1 0 0 0 1 1 5 1 1 0 0 3 3 1 0 3 1 1 0 0 0 3 0 0 0 1 0 0 0 1 0 0 3 0 0 0\n",
      " 0 0 0 1 0 0 0 0 5 3 0 0 5 0 0 0 0 0 0 0 0 0 0 1 5 0 0 0 5 5 0 0 0 0 0 0 0\n",
      " 0 1 0 0 0 1 0 0 0 0 0 5 1 0 0 0 0 0 3 0 1 3 0 3 0 0 0 0 0 0 0 0 0 0 0 1 0\n",
      " 3 0 3 0 1 0 0 0 0 0 3 3 0 0 5 1 1 0 1 3 0 1 0 0 1 0 3 3 0 3 0 0 3 0 0 0 0\n",
      " 0 0 0 0 0 0 0 0 0 0 0 1 1 0 0 0 1 0 3 3 0 0 3 0 0 0 0 1 0 0 0 0 0 1 0 1 0\n",
      " 0 0 0 3 1 0 0 3 3 0 1 0 0 3 0 0 0 3 3 0 3 0 0 0 0 0 5]\n",
      "Actual Output: [3 0 0 0 0 0 5 3 1 0 0 0 0 1 3 0 1 0 1 0 3 3 0 5 0 0 0 5 5 1 1 0 3 0 0 3 0\n",
      " 1 3 0 1 0 3 5 0 0 3 5 0 5 1 1 1 3 0 0 0 3 5 0 3 0 0 0 5 3 3 1 3 3 0 0 3 3\n",
      " 1 3 0 0 0 3 5 3 1 1 0 0 3 3 1 2 3 0 0 3 2 3 0 0 0 3 3 5 3 5 3 0 3 0 0 0 3\n",
      " 5 0 3 5 3 0 0 5 0 0 1 0 0 3 1 3 1 5 3 1 3 3 3 3 1 1 3 0 0 1 3 1 0 1 3 0 1\n",
      " 0 3 5 1 5 0 0 0 1 1 1 0 0 0 0 5 0 0 1 1 3 3 3 2 1 0 3 5 5 3 1 1 0 0 0 5 3\n",
      " 1 0 1 5 0 3 1 3 0 0 0 0 0 0 0 3 0 0 1 0 3 3 0 0 3 0 0 0 1 1 0 0 0 3 3 1 0\n",
      " 1 5 1 3 3 5 1 2 2 1 3 5 0 3 1 0 1 5 1 0 0 0 0 3 5 3 5 0 0 0 0 0 0 3 0 0 0\n",
      " 0 0 0 0 3 1 0 3 1 3 0 0 1 5 3 3 0 0 3 0 0 0 0 0 5 0 0 0 1 5 3 0 0 0 1 0 3\n",
      " 3 5 0 1 3 1 0 1 0 0 3 0 0 0 3 0 3 1 3 0 5 3 0 1 0 3 5 0 0 0 3 3 1 5 0 3 1\n",
      " 0 1 3 3 1 0 0 0 1 3 3 3 5 0 1 5 1 5 1 3 0 1 0 0 1 0 3 2 3 3 0 3 3 1 0 1 1\n",
      " 3 0 0 0 0 0 1 0 0 0 3 1 5 3 3 3 3 3 0 0 0 0 0 0 0 0 0 3 0 3 0 3 0 1 3 5 0\n",
      " 0 1 0 0 5 3 3 0 3 0 3 3 0 3 3 0 0 0 1 5 0 0 1 0 1 1 3]\n",
      "Accuracy: 0.5253456221198156\n"
     ]
    }
   ],
   "source": [
    "import numpy as np\n",
    "predicted_outputs = np.argmax(yhat, axis=1)\n",
    "actual_outputs = np.argmax(Y_test, axis=1)\n",
    "print(\"Predicted Output:\", predicted_outputs)\n",
    "print(\"Actual Output:\", actual_outputs)\n",
    "print(\"Accuracy:\", (predicted_outputs == actual_outputs).sum()/len(actual_outputs))"
   ]
  },
  {
   "cell_type": "markdown",
   "metadata": {},
   "source": [
    "# Test top n accuracy"
   ]
  },
  {
   "cell_type": "code",
   "execution_count": 32,
   "metadata": {},
   "outputs": [],
   "source": [
    "def compare_top_n(predicted, actual):\n",
    "    total_obs = float(len(actual))\n",
    "    matches = 0\n",
    "    for i, each_predicted in enumerate(predicted):\n",
    "        top_n = each_predicted.argsort()[-3:][::-1]\n",
    "        if actual[i] in top_n:\n",
    "            matches += 1\n",
    "    return matches/total_obs"
   ]
  },
  {
   "cell_type": "code",
   "execution_count": 33,
   "metadata": {},
   "outputs": [
    {
     "data": {
      "text/plain": [
       "0.9170506912442397"
      ]
     },
     "execution_count": 33,
     "metadata": {},
     "output_type": "execute_result"
    }
   ],
   "source": [
    "compare_top_n(yhat, actual_outputs)"
   ]
  },
  {
   "cell_type": "code",
   "execution_count": null,
   "metadata": {},
   "outputs": [],
   "source": []
  }
 ],
 "metadata": {
  "kernelspec": {
   "display_name": "Python [default]",
   "language": "python",
   "name": "python3"
  },
  "language_info": {
   "codemirror_mode": {
    "name": "ipython",
    "version": 3
   },
   "file_extension": ".py",
   "mimetype": "text/x-python",
   "name": "python",
   "nbconvert_exporter": "python",
   "pygments_lexer": "ipython3",
   "version": "3.6.4"
  }
 },
 "nbformat": 4,
 "nbformat_minor": 2
}
